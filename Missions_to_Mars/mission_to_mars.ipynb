{
 "cells": [
  {
   "cell_type": "markdown",
   "metadata": {},
   "source": [
    "## Mission to Mars\n",
    "#### Dependencies and Setup"
   ]
  },
  {
   "cell_type": "code",
   "execution_count": 526,
   "metadata": {},
   "outputs": [],
   "source": [
    "from splinter import Browser\n",
    "from bs4 import BeautifulSoup as bs\n",
    "import time\n",
    "import pymongo"
   ]
  },
  {
   "cell_type": "code",
   "execution_count": 526,
   "metadata": {},
   "outputs": [],
   "source": [
    "def init_browser():\n",
    "    # @NOTE: Replace the path with your actual path to the chromedriver\n",
    "    executable_path = {\"executable_path\": \"/usr/local/bin/chromedriver\"}\n",
    "    return Browser(\"chrome\", **executable_path, headless=False)\n",
    "\n",
    "def soup_url (url):\n",
    "    browser = init_browser()\n",
    "    # Visit url\n",
    "    browser.visit(url)\n",
    "    time.sleep(1)\n",
    "\n",
    "    # Scrape page into Soup\n",
    "    html = browser.html\n",
    "    soup_url = bs(html, \"html.parser\")\n",
    "    \n",
    "     # Close the browser after scraping\n",
    "    browser.quit()\n",
    "    \n",
    "    return soup_url\n",
    "\n",
    "def soup_class (soup, class_name):\n",
    "    \n",
    "    # Soup data list\n",
    "    soup_class = soup.find(class_= class_name)\n",
    "    \n",
    "    return soup_class \n",
    "\n",
    "def soup_class_list (soup, class_name):\n",
    "   \n",
    "    # Soup data list\n",
    "    soup_class_list = soup.find_all(class_= class_name)\n",
    "    \n",
    "    return soup_class_list\n",
    "\n",
    "def text_list (soup_class_list):\n",
    "    text_list = []\n",
    "    [text_list.append(record.text.replace(\"\\n\", \"\")) for record in soup_class_list]\n",
    "    return text_list"
   ]
  },
  {
   "cell_type": "markdown",
   "metadata": {},
   "source": [
    "## NASA Mars Latest News \n",
    "#### Browser and Site Connection"
   ]
  },
  {
   "cell_type": "code",
   "execution_count": 418,
   "metadata": {},
   "outputs": [],
   "source": [
    "# Visit mars.nasa.gov\n",
    "mars_url = \"https://mars.nasa.gov\"\n",
    "url_news = \"https://mars.nasa.gov/news/?page=0&per_page=40&order=publish_date+desc%2Ccreated_at+desc&search=&category=19%2C165%2C184%2C204&blank_scope=Latest\"\n",
    "soup = soup_url(url_news)\n",
    "# soup.prettify()"
   ]
  },
  {
   "cell_type": "markdown",
   "metadata": {},
   "source": [
    "#### Understanding and Inspecting the Data"
   ]
  },
  {
   "cell_type": "code",
   "execution_count": 419,
   "metadata": {},
   "outputs": [
    {
     "data": {
      "text/plain": [
       "'News  – NASA’s Mars Exploration Program '"
      ]
     },
     "execution_count": 419,
     "metadata": {},
     "output_type": "execute_result"
    }
   ],
   "source": [
    "page_title = soup.title.text\n",
    "page_title"
   ]
  },
  {
   "cell_type": "code",
   "execution_count": 420,
   "metadata": {},
   "outputs": [
    {
     "name": "stdout",
     "output_type": "stream",
     "text": [
      "Inner Text: NASA\n",
      "Title: visit nasa.gov\n",
      "href: http://www.nasa.gov\n",
      "Inner Text: NASA Science\n",
      "Title: Explore NASA Science\n",
      "href: https://science.nasa.gov/\n",
      "Inner Text: Mars Exploration Program\n",
      "Title: Mars\n",
      "href: /mars-exploration/#\n",
      "Inner Text: Skip Navigation\n",
      "Title: None\n",
      "href: #page\n"
     ]
    }
   ],
   "source": [
    "for link in soup.find_all(\"a\")[:4]:\n",
    "    print(\"Inner Text: {}\".format(link.text))\n",
    "    print(\"Title: {}\".format(link.get(\"title\")))\n",
    "    print(\"href: {}\".format(link.get(\"href\")))"
   ]
  },
  {
   "cell_type": "markdown",
   "metadata": {},
   "source": [
    "#### Collecting the Data"
   ]
  },
  {
   "cell_type": "code",
   "execution_count": 421,
   "metadata": {},
   "outputs": [
    {
     "data": {
      "text/plain": [
       "['August 24, 2020',\n",
       " 'August 21, 2020',\n",
       " 'August 14, 2020',\n",
       " 'August 13, 2020',\n",
       " 'August 12, 2020']"
      ]
     },
     "execution_count": 421,
     "metadata": {},
     "output_type": "execute_result"
    }
   ],
   "source": [
    "# Collect the latest News Dates\n",
    "date_news = text_list(soup_class_list(soup, \"list_date\"))\n",
    "date_news[:5]"
   ]
  },
  {
   "cell_type": "code",
   "execution_count": 422,
   "metadata": {},
   "outputs": [
    {
     "data": {
      "text/plain": [
       "[\"NASA Engineers Checking InSight's Weather Sensors\",\n",
       " \"Follow NASA's Perseverance Rover in Real Time on Its Way to Mars\",\n",
       " 'NASA Establishes Board to Initially Review Mars Sample Return Plans',\n",
       " \"NASA's Ingenuity Mars Helicopter Recharges Its Batteries in Flight\",\n",
       " \"Celebrate Mars Reconnaissance Orbiter's Views From Above\"]"
      ]
     },
     "execution_count": 422,
     "metadata": {},
     "output_type": "execute_result"
    }
   ],
   "source": [
    "# Collect the latest News Titles\n",
    "title_news = text_list(soup_class_list(soup, \"content_title\"))\n",
    "title_news.pop(0)\n",
    "title_news[:5]"
   ]
  },
  {
   "cell_type": "code",
   "execution_count": 423,
   "metadata": {},
   "outputs": [
    {
     "data": {
      "text/plain": [
       "['An electronics issue is suspected to be preventing the sensors from sharing their data about Mars weather with the spacecraft.',\n",
       " \"A crisply rendered web application can show you where the agency's Mars 2020 mission is right now as it makes its way to the Red Planet for a Feb. 18, 2021, landing.\",\n",
       " 'The board will assist with analysis of current plans and goals for one of the most difficult missions humanity has ever undertaken.',\n",
       " 'Headed to the Red Planet with the Perseverance rover, the pioneering helicopter is powered up for the first time in interplanetary space as part of a systems check.',\n",
       " 'Marking its 15th anniversary since launch, one of the oldest spacecraft at the Red Planet has provided glimpses of dust devils, avalanches, and more.']"
      ]
     },
     "execution_count": 423,
     "metadata": {},
     "output_type": "execute_result"
    }
   ],
   "source": [
    "# Collect the latest News Paragraphs\n",
    "par_news = text_list(soup_class_list(soup, \"article_teaser_body\"))\n",
    "par_news[:5]"
   ]
  },
  {
   "cell_type": "code",
   "execution_count": 424,
   "metadata": {},
   "outputs": [],
   "source": [
    "# Create news images list \n",
    "image_news = soup_class_list(soup, \"list_image\")\n",
    "image_name_list = []\n",
    "image_url_list = []\n",
    "for image in image_news:\n",
    "    image_name_list.append(image(\"img\")[0].get('alt'))\n",
    "    image_url_list.append(mars_url + image(\"img\")[0].get('src'))"
   ]
  },
  {
   "cell_type": "code",
   "execution_count": 425,
   "metadata": {},
   "outputs": [
    {
     "data": {
      "text/plain": [
       "40"
      ]
     },
     "execution_count": 425,
     "metadata": {},
     "output_type": "execute_result"
    }
   ],
   "source": [
    "len(image_name_list)"
   ]
  },
  {
   "cell_type": "code",
   "execution_count": 426,
   "metadata": {},
   "outputs": [
    {
     "data": {
      "text/plain": [
       "[{'Date': 'August 24, 2020',\n",
       "  'News_Title': \"NASA Engineers Checking InSight's Weather Sensors\",\n",
       "  'News_Paragraph': 'An electronics issue is suspected to be preventing the sensors from sharing their data about Mars weather with the spacecraft.',\n",
       "  'Image_Name': 'InSight Collecting Mars Weather Data',\n",
       "  'Image_URL': 'https://mars.nasa.gov/system/news_items/list_view_images/8744_PIA22957-226.jpg'},\n",
       " {'Date': 'August 21, 2020',\n",
       "  'News_Title': \"Follow NASA's Perseverance Rover in Real Time on Its Way to Mars\",\n",
       "  'News_Paragraph': \"A crisply rendered web application can show you where the agency's Mars 2020 mission is right now as it makes its way to the Red Planet for a Feb. 18, 2021, landing.\",\n",
       "  'Image_Name': 'Illustration of Mars 2020 spacecraft',\n",
       "  'Image_URL': 'https://mars.nasa.gov/system/news_items/list_view_images/8742_Mars2020-Earth-226.jpg'},\n",
       " {'Date': 'August 14, 2020',\n",
       "  'News_Title': 'NASA Establishes Board to Initially Review Mars Sample Return Plans',\n",
       "  'News_Paragraph': 'The board will assist with analysis of current plans and goals for one of the most difficult missions humanity has ever undertaken.',\n",
       "  'Image_Name': \"Mars 2020 With Sample Tubes (Artist's Concept)\",\n",
       "  'Image_URL': 'https://mars.nasa.gov/system/news_items/list_view_images/8737_24760_PIA23492-320x240.jpg'},\n",
       " {'Date': 'August 13, 2020',\n",
       "  'News_Title': \"NASA's Ingenuity Mars Helicopter Recharges Its Batteries in Flight\",\n",
       "  'News_Paragraph': 'Headed to the Red Planet with the Perseverance rover, the pioneering helicopter is powered up for the first time in interplanetary space as part of a systems check.',\n",
       "  'Image_Name': 'Mars 2020 Perseverance rover and the Ingenuity Mars Helicopter',\n",
       "  'Image_URL': 'https://mars.nasa.gov/system/news_items/list_view_images/8736_PIA24043-Rover-and-Helicopter-320x240.jpg'},\n",
       " {'Date': 'August 12, 2020',\n",
       "  'News_Title': \"Celebrate Mars Reconnaissance Orbiter's Views From Above\",\n",
       "  'News_Paragraph': 'Marking its 15th anniversary since launch, one of the oldest spacecraft at the Red Planet has provided glimpses of dust devils, avalanches, and more.',\n",
       "  'Image_Name': 'Side-by-side movies shows how the 2018 global dust storm enveloped Mars',\n",
       "  'Image_URL': 'https://mars.nasa.gov/system/news_items/list_view_images/8735_collage-320.jpg'}]"
      ]
     },
     "execution_count": 426,
     "metadata": {},
     "output_type": "execute_result"
    }
   ],
   "source": [
    "news = []\n",
    "for i in range(len(date_news)):\n",
    "    row = {}\n",
    "    row['Date'] = date_news[i]\n",
    "    row[\"News_Title\"] = title_news[i]\n",
    "    row[\"News_Paragraph\"] = par_news[i]\n",
    "    row[\"Image_Name\"] = image_name_list[i]\n",
    "    row[\"Image_URL\"] = image_url_list[i]\n",
    "    news.append(row)\n",
    "news[:5]"
   ]
  },
  {
   "cell_type": "markdown",
   "metadata": {},
   "source": [
    "## JPL Mars Space Images - Featured Image\n",
    "#### Site Connection and Data Collection"
   ]
  },
  {
   "cell_type": "code",
   "execution_count": 535,
   "metadata": {},
   "outputs": [],
   "source": [
    "# Visit jpl.nasa.gov\n",
    "url_image = \"https://www.jpl.nasa.gov/spaceimages/?search=&category=Mars\"\n",
    "url = \"https://www.jpl.nasa.gov\"\n",
    "soup = soup_url(url_image)"
   ]
  },
  {
   "cell_type": "code",
   "execution_count": 576,
   "metadata": {},
   "outputs": [
    {
     "data": {
      "text/plain": [
       "[<img alt=\"more arrow\" src=\"/assets/images/overlay-arrow.png\"/>,\n",
       " <img alt=\"Wind and Sand - False Color\" class=\"thumb\" src=\"/spaceimages/images/wallpaper/PIA24077-640x350.jpg\" title=\"Wind and Sand - False Color\"/>]"
      ]
     },
     "execution_count": 576,
     "metadata": {},
     "output_type": "execute_result"
    }
   ],
   "source": [
    "# Finding any image\n",
    "any_image = soup.find(class_=\"image_and_description_container\")\n",
    "any_image.findChildren('img')"
   ]
  },
  {
   "cell_type": "code",
   "execution_count": 575,
   "metadata": {},
   "outputs": [
    {
     "data": {
      "text/plain": [
       "{'Title': 'Vesta Sizes Up',\n",
       " 'Description': \"Vesta is the largest asteroid visited by a spacecraft. It is currently being observed by NASA's Dawn spacecraft, which has entered orbit around Vesta.\",\n",
       " 'Image_url': 'https://www.jpl.nasa.gov/spaceimages/images/wallpaper/PIA14316-1920x1200.jpg'}"
      ]
     },
     "execution_count": 575,
     "metadata": {},
     "output_type": "execute_result"
    }
   ],
   "source": [
    "# Extracting featured image\n",
    "image = soup.find(class_=\"carousel_item\")\n",
    "image_url = url + image[\"style\"].split(\"'\")[1]\n",
    "image_title = image.findChildren(\"a\")[0]['data-title']\n",
    "image_description = image.findChildren(\"a\")[0]['data-description']\n",
    "featured_image_dic = {'Title': image_title, 'Description': image_description, 'Image_url': image_url}\n",
    "featured_image_dic"
   ]
  },
  {
   "cell_type": "markdown",
   "metadata": {},
   "source": [
    "## Mars Facts\n",
    "#### Browser and Site Connection"
   ]
  },
  {
   "cell_type": "code",
   "execution_count": 427,
   "metadata": {},
   "outputs": [],
   "source": [
    "# Visit space-facts.com/mars\n",
    "url_facts = \"https://space-facts.com/mars/\"\n",
    "soup = soup_url(url_facts)"
   ]
  },
  {
   "cell_type": "markdown",
   "metadata": {},
   "source": [
    "#### Collecting the Data"
   ]
  },
  {
   "cell_type": "code",
   "execution_count": 428,
   "metadata": {},
   "outputs": [
    {
     "data": {
      "text/plain": [
       "['Equatorial Diameter:',\n",
       " 'Polar Diameter:',\n",
       " 'Mass:',\n",
       " 'Moons:',\n",
       " 'Orbit Distance:',\n",
       " 'Orbit Period:',\n",
       " 'Surface Temperature: ',\n",
       " 'First Record:',\n",
       " 'Recorded By:',\n",
       " 'Mars - Earth Comparison']"
      ]
     },
     "execution_count": 428,
     "metadata": {},
     "output_type": "execute_result"
    }
   ],
   "source": [
    "# Extracting facts description\n",
    "facts = text_list(soup_class_list(soup, \"column-1\"))\n",
    "facts[:10]"
   ]
  },
  {
   "cell_type": "code",
   "execution_count": 429,
   "metadata": {},
   "outputs": [
    {
     "data": {
      "text/plain": [
       "['6,792 km',\n",
       " '6,752 km',\n",
       " '6.39 × 10^23 kg (0.11 Earths)',\n",
       " '2 (Phobos & Deimos)',\n",
       " '227,943,824 km (1.38 AU)',\n",
       " '687 days (1.9 years)',\n",
       " '-87 to -5 °C',\n",
       " '2nd millennium BC',\n",
       " 'Egyptian astronomers',\n",
       " 'Mars']"
      ]
     },
     "execution_count": 429,
     "metadata": {},
     "output_type": "execute_result"
    }
   ],
   "source": [
    "# Extracting facts data\n",
    "facts_data = text_list(soup_class_list(soup, \"column-2\"))\n",
    "facts_data[:10]"
   ]
  },
  {
   "cell_type": "code",
   "execution_count": 430,
   "metadata": {},
   "outputs": [
    {
     "data": {
      "text/plain": [
       "[{'Description': 'Equatorial Diameter:', 'Mars_Fact': '6,792 km'},\n",
       " {'Description': 'Polar Diameter:', 'Mars_Fact': '6,752 km'},\n",
       " {'Description': 'Mass:', 'Mars_Fact': '6.39 × 10^23 kg (0.11 Earths)'},\n",
       " {'Description': 'Moons:', 'Mars_Fact': '2 (Phobos & Deimos)'},\n",
       " {'Description': 'Orbit Distance:', 'Mars_Fact': '227,943,824 km (1.38 AU)'}]"
      ]
     },
     "execution_count": 430,
     "metadata": {},
     "output_type": "execute_result"
    }
   ],
   "source": [
    "facts_list = []\n",
    "for i in range(len(facts_data)):\n",
    "        row = {}\n",
    "        row['Description'] = facts[i]\n",
    "        row['Mars_Fact'] = facts_data[i]\n",
    "        facts_list.append(row)\n",
    "facts_list[:5]"
   ]
  },
  {
   "cell_type": "markdown",
   "metadata": {},
   "source": [
    "## Mars Hemispheres\n",
    "#### Browser and Site Connection"
   ]
  },
  {
   "cell_type": "code",
   "execution_count": 542,
   "metadata": {},
   "outputs": [],
   "source": [
    "# Visit mars.nasa.com\n",
    "url_astro = \"https://astrogeology.usgs.gov\"\n",
    "url_astro_search = \"https://astrogeology.usgs.gov/search/results?q=hemisphere+enhanced&k1=target&v1=Mars\"\n",
    "soup = soup_url(url_astro_search)"
   ]
  },
  {
   "cell_type": "code",
   "execution_count": 543,
   "metadata": {},
   "outputs": [
    {
     "data": {
      "text/plain": [
       "['https://astrogeology.usgs.gov/search/map/Mars/Viking/cerberus_enhanced',\n",
       " 'https://astrogeology.usgs.gov/search/map/Mars/Viking/schiaparelli_enhanced',\n",
       " 'https://astrogeology.usgs.gov/search/map/Mars/Viking/syrtis_major_enhanced',\n",
       " 'https://astrogeology.usgs.gov/search/map/Mars/Viking/valles_marineris_enhanced']"
      ]
     },
     "execution_count": 543,
     "metadata": {},
     "output_type": "execute_result"
    }
   ],
   "source": [
    "# Extract Reference per each product item\n",
    "items_astro = soup_class_list(soup, 'itemLink product-item')\n",
    "items_ref_list = []\n",
    "for item in items_astro:\n",
    "    item_url = url_astro + item.get('href')\n",
    "    if item_url not in items_ref_list:\n",
    "        items_ref_list.append(item_url)\n",
    "items_ref_list"
   ]
  },
  {
   "cell_type": "code",
   "execution_count": 463,
   "metadata": {},
   "outputs": [
    {
     "data": {
      "text/plain": [
       "['Cerberus Hemisphere Enhanced',\n",
       " 'Schiaparelli Hemisphere Enhanced',\n",
       " 'Syrtis Major Hemisphere Enhanced',\n",
       " 'Valles Marineris Hemisphere Enhanced']"
      ]
     },
     "execution_count": 463,
     "metadata": {},
     "output_type": "execute_result"
    }
   ],
   "source": [
    "items_title_list = [soup.findAll('h3')[i].next for i in range(len(soup.findAll('h3')))]\n",
    "items_title_list"
   ]
  },
  {
   "cell_type": "code",
   "execution_count": 464,
   "metadata": {},
   "outputs": [
    {
     "data": {
      "text/plain": [
       "[{'title': 'Cerberus Hemisphere Enhanced',\n",
       "  'img_url': 'https://astropedia.astrogeology.usgs.gov/download/Mars/Viking/cerberus_enhanced.tif/full.jpg'},\n",
       " {'title': 'Schiaparelli Hemisphere Enhanced',\n",
       "  'img_url': 'https://astropedia.astrogeology.usgs.gov/download/Mars/Viking/schiaparelli_enhanced.tif/full.jpg'},\n",
       " {'title': 'Syrtis Major Hemisphere Enhanced',\n",
       "  'img_url': 'https://astropedia.astrogeology.usgs.gov/download/Mars/Viking/syrtis_major_enhanced.tif/full.jpg'},\n",
       " {'title': 'Valles Marineris Hemisphere Enhanced',\n",
       "  'img_url': 'https://astropedia.astrogeology.usgs.gov/download/Mars/Viking/valles_marineris_enhanced.tif/full.jpg'}]"
      ]
     },
     "execution_count": 464,
     "metadata": {},
     "output_type": "execute_result"
    }
   ],
   "source": [
    "# Create list of data dictionaries for each product-item\n",
    "hemisphere_list = []\n",
    "for i in range(len(items_title_list)):\n",
    "    row ={}\n",
    "    soup = soup_url(items_ref_list[i])\n",
    "    downloads = soup.find(class_='downloads')\n",
    "    item_url = downloads.findChildren(\"a\")[0].get(\"href\")\n",
    "    row['title'] = items_title_list[i]\n",
    "    row['img_url'] = item_url\n",
    "    hemisphere_list.append(row)\n",
    "hemisphere_list"
   ]
  },
  {
   "cell_type": "markdown",
   "metadata": {},
   "source": [
    "# Store Data in Database"
   ]
  },
  {
   "cell_type": "code",
   "execution_count": 527,
   "metadata": {},
   "outputs": [],
   "source": [
    "# Initialize PyMongo to work with MongoDBs\n",
    "conn = 'mongodb://localhost:27017'\n",
    "client = pymongo.MongoClient(conn)"
   ]
  },
  {
   "cell_type": "code",
   "execution_count": 530,
   "metadata": {},
   "outputs": [],
   "source": [
    "# Define database and collection\n",
    "db = client.mars_db\n",
    "collection = db.mars_news"
   ]
  },
  {
   "cell_type": "code",
   "execution_count": 529,
   "metadata": {},
   "outputs": [],
   "source": [
    "# Upload collection\n",
    "for record in news:\n",
    "    collection.insert_one(record)"
   ]
  },
  {
   "cell_type": "code",
   "execution_count": 532,
   "metadata": {},
   "outputs": [
    {
     "name": "stdout",
     "output_type": "stream",
     "text": [
      "{'_id': ObjectId('5f4bc92d2fc6aa64707f5e3a'), 'Date': 'August 24, 2020', 'News_Title': \"NASA Engineers Checking InSight's Weather Sensors\", 'News_Paragraph': 'An electronics issue is suspected to be preventing the sensors from sharing their data about Mars weather with the spacecraft.', 'Image_Name': 'InSight Collecting Mars Weather Data', 'Image_URL': 'https://mars.nasa.gov/system/news_items/list_view_images/8744_PIA22957-226.jpg'}\n",
      "{'_id': ObjectId('5f4bc92d2fc6aa64707f5e3b'), 'Date': 'August 21, 2020', 'News_Title': \"Follow NASA's Perseverance Rover in Real Time on Its Way to Mars\", 'News_Paragraph': \"A crisply rendered web application can show you where the agency's Mars 2020 mission is right now as it makes its way to the Red Planet for a Feb. 18, 2021, landing.\", 'Image_Name': 'Illustration of Mars 2020 spacecraft', 'Image_URL': 'https://mars.nasa.gov/system/news_items/list_view_images/8742_Mars2020-Earth-226.jpg'}\n",
      "{'_id': ObjectId('5f4bc92d2fc6aa64707f5e3c'), 'Date': 'August 14, 2020', 'News_Title': 'NASA Establishes Board to Initially Review Mars Sample Return Plans', 'News_Paragraph': 'The board will assist with analysis of current plans and goals for one of the most difficult missions humanity has ever undertaken.', 'Image_Name': \"Mars 2020 With Sample Tubes (Artist's Concept)\", 'Image_URL': 'https://mars.nasa.gov/system/news_items/list_view_images/8737_24760_PIA23492-320x240.jpg'}\n"
     ]
    }
   ],
   "source": [
    "# Display the MongoDB records created above\n",
    "mars_news_db = db.mars_news.find()\n",
    "for record in mars_news_db[:3]:\n",
    "    print(record)"
   ]
  },
  {
   "cell_type": "code",
   "execution_count": 538,
   "metadata": {},
   "outputs": [],
   "source": [
    "collection = db.mars_facts\n",
    "# Upload collection\n",
    "for record in facts_list:\n",
    "    collection.insert_one(record)"
   ]
  },
  {
   "cell_type": "code",
   "execution_count": 540,
   "metadata": {},
   "outputs": [],
   "source": [
    "collection = db.mars_hem\n",
    "# Upload collection\n",
    "for record in hemisphere_list:\n",
    "    collection.insert_one(record)"
   ]
  },
  {
   "cell_type": "code",
   "execution_count": 577,
   "metadata": {},
   "outputs": [
    {
     "data": {
      "text/plain": [
       "<pymongo.results.InsertOneResult at 0x7fb56aeb6480>"
      ]
     },
     "execution_count": 577,
     "metadata": {},
     "output_type": "execute_result"
    }
   ],
   "source": [
    "collection = db.mars_images\n",
    "# Upload collection featured images\n",
    "collection.insert_one(featured_image_dic)"
   ]
  },
  {
   "cell_type": "code",
   "execution_count": null,
   "metadata": {},
   "outputs": [],
   "source": []
  }
 ],
 "metadata": {
  "kernelspec": {
   "display_name": "Python 3",
   "language": "python",
   "name": "python3"
  },
  "language_info": {
   "codemirror_mode": {
    "name": "ipython",
    "version": 3
   },
   "file_extension": ".py",
   "mimetype": "text/x-python",
   "name": "python",
   "nbconvert_exporter": "python",
   "pygments_lexer": "ipython3",
   "version": "3.8.2"
  }
 },
 "nbformat": 4,
 "nbformat_minor": 4
}
