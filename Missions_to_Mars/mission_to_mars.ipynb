{
 "cells": [
  {
   "cell_type": "markdown",
   "metadata": {},
   "source": [
    "## Web Scraping - Mission to Mars\n",
    "#### Dependencies and Setup"
   ]
  },
  {
   "cell_type": "code",
   "execution_count": null,
   "metadata": {},
   "outputs": [],
   "source": [
    "from splinter import Browser\n",
    "from bs4 import BeautifulSoup as bs\n",
    "import time\n",
    "\n",
    "\n",
    "def init_browser():\n",
    "    # @NOTE: Replace the path with your actual path to the chromedriver\n",
    "    executable_path = {\"executable_path\": \"/usr/local/bin/chromedriver\"}\n",
    "    return Browser(\"chrome\", **executable_path, headless=False)"
   ]
  },
  {
   "cell_type": "markdown",
   "metadata": {},
   "source": [
    "## NASA Mars Latest News \n",
    "#### Browser and Site Connection"
   ]
  },
  {
   "cell_type": "code",
   "execution_count": 185,
   "metadata": {},
   "outputs": [],
   "source": [
    "browser = init_browser()\n",
    "\n",
    "# Visit mars.nasa.com\n",
    "url = \"https://mars.nasa.gov/news/?page=0&per_page=40&order=publish_date+desc%2Ccreated_at+desc&search=&category=19%2C165%2C184%2C204&blank_scope=Latest\"\n",
    "browser.visit(url)\n",
    "time.sleep(1)\n",
    "\n",
    "# Scrape page into Soup\n",
    "html = browser.html\n",
    "soup = bs(html, \"html.parser\")"
   ]
  },
  {
   "cell_type": "markdown",
   "metadata": {},
   "source": [
    "#### Understanding and Inspecting the Data"
   ]
  },
  {
   "cell_type": "code",
   "execution_count": 186,
   "metadata": {},
   "outputs": [],
   "source": [
    "def news_list(class_name):\n",
    "    soup_list = soup.find_all(class_=class_name)\n",
    "    news_list = []\n",
    "    [news_list.append(news.text.replace(\"\\n\", \"\")) for news in soup_list]\n",
    "    return news_list"
   ]
  },
  {
   "cell_type": "code",
   "execution_count": 187,
   "metadata": {},
   "outputs": [
    {
     "data": {
      "text/plain": [
       "'News  – NASA’s Mars Exploration Program '"
      ]
     },
     "execution_count": 187,
     "metadata": {},
     "output_type": "execute_result"
    }
   ],
   "source": [
    "page_title = soup.title.text\n",
    "page_title"
   ]
  },
  {
   "cell_type": "code",
   "execution_count": 188,
   "metadata": {},
   "outputs": [],
   "source": [
    "# soup.prettify()"
   ]
  },
  {
   "cell_type": "code",
   "execution_count": 189,
   "metadata": {},
   "outputs": [
    {
     "name": "stdout",
     "output_type": "stream",
     "text": [
      "Inner Text: NASA\n",
      "Title: visit nasa.gov\n",
      "href: http://www.nasa.gov\n",
      "Inner Text: NASA Science\n",
      "Title: Explore NASA Science\n",
      "href: https://science.nasa.gov/\n",
      "Inner Text: Mars Exploration Program\n",
      "Title: Mars\n",
      "href: /mars-exploration/#\n",
      "Inner Text: Skip Navigation\n",
      "Title: None\n",
      "href: #page\n"
     ]
    }
   ],
   "source": [
    "for link in soup.find_all(\"a\")[:4]:\n",
    "    print(\"Inner Text: {}\".format(link.text))\n",
    "    print(\"Title: {}\".format(link.get(\"title\")))\n",
    "    print(\"href: {}\".format(link.get(\"href\")))"
   ]
  },
  {
   "cell_type": "markdown",
   "metadata": {},
   "source": [
    "#### Collecting the Data"
   ]
  },
  {
   "cell_type": "code",
   "execution_count": 190,
   "metadata": {},
   "outputs": [
    {
     "data": {
      "text/plain": [
       "40"
      ]
     },
     "execution_count": 190,
     "metadata": {},
     "output_type": "execute_result"
    }
   ],
   "source": [
    "# Collect the latest News Titles\n",
    "date_news = news_list(\"list_date\")\n",
    "len(date_news)"
   ]
  },
  {
   "cell_type": "code",
   "execution_count": 191,
   "metadata": {},
   "outputs": [
    {
     "data": {
      "text/plain": [
       "[\"NASA Engineers Checking InSight's Weather Sensors\",\n",
       " \"Follow NASA's Perseverance Rover in Real Time on Its Way to Mars\",\n",
       " 'NASA Establishes Board to Initially Review Mars Sample Return Plans',\n",
       " \"NASA's Ingenuity Mars Helicopter Recharges Its Batteries in Flight\",\n",
       " \"Celebrate Mars Reconnaissance Orbiter's Views From Above\",\n",
       " \"NASA's MAVEN Observes Martian Night Sky Pulsing in Ultraviolet Light\",\n",
       " \"8 Martian Postcards to Celebrate Curiosity's Landing Anniversary\",\n",
       " 'NASA, ULA Launch Mars 2020 Perseverance Rover Mission to Red Planet',\n",
       " \"NASA's Perseverance Rover Will Carry First Spacesuit Materials to Mars\",\n",
       " \"A New Video Captures the Science of NASA's Perseverance Mars Rover\"]"
      ]
     },
     "execution_count": 191,
     "metadata": {},
     "output_type": "execute_result"
    }
   ],
   "source": [
    "# Collect the latest News Titles\n",
    "title_news = news_list(\"content_title\")\n",
    "title_news.pop(0)\n",
    "title_news[:10]"
   ]
  },
  {
   "cell_type": "code",
   "execution_count": 192,
   "metadata": {},
   "outputs": [
    {
     "data": {
      "text/plain": [
       "40"
      ]
     },
     "execution_count": 192,
     "metadata": {},
     "output_type": "execute_result"
    }
   ],
   "source": [
    "# Collect the latest News Titles\n",
    "par_news = news_list(\"article_teaser_body\")\n",
    "len(par_news)"
   ]
  },
  {
   "cell_type": "code",
   "execution_count": 197,
   "metadata": {},
   "outputs": [
    {
     "data": {
      "text/plain": [
       "[<div class=\"list_image\"><img alt=\"InSight Collecting Mars Weather Data\" src=\"/system/news_items/list_view_images/8744_PIA22957-226.jpg\"/></div>,\n",
       " <div class=\"list_image\"><img alt=\"Illustration of Mars 2020 spacecraft\" src=\"/system/news_items/list_view_images/8742_Mars2020-Earth-226.jpg\"/></div>,\n",
       " <div class=\"list_image\"><img alt=\"Mars 2020 With Sample Tubes (Artist's Concept)\" src=\"/system/news_items/list_view_images/8737_24760_PIA23492-320x240.jpg\"/></div>,\n",
       " <div class=\"list_image\"><img alt=\"Mars 2020 Perseverance rover and the Ingenuity Mars Helicopter\" src=\"/system/news_items/list_view_images/8736_PIA24043-Rover-and-Helicopter-320x240.jpg\"/></div>,\n",
       " <div class=\"list_image\"><img alt=\"Side-by-side movies shows how the 2018 global dust storm enveloped Mars\" src=\"/system/news_items/list_view_images/8735_collage-320.jpg\"/></div>,\n",
       " <div class=\"list_image\"><img alt=\"ultraviolet “nightglow” in the Martian atmosphere\" src=\"/system/news_items/list_view_images/8731_MAVEN_nightglow_pulsating_spot-320x240.jpg\"/></div>,\n",
       " <div class=\"list_image\"><img alt=\"Color view of Mars' Mount Sharp\" src=\"/system/news_items/list_view_images/8726_PIA23898-320.jpg\"/></div>,\n",
       " <div class=\"list_image\"><img alt=\"Launch of Mars Perseverance\" src=\"/system/news_items/list_view_images/8724_launchscreen-320x240.jpg\"/></div>,\n",
       " <div class=\"list_image\"><img alt=\"An illustration of NASA astronauts on Mars\" src=\"/system/news_items/list_view_images/8723_PIA24031-320.jpg\"/></div>,\n",
       " <div class=\"list_image\"><img alt=\"\" src=\"/system/news_items/list_view_images/8721_24759_PIA23491-320x240.jpg\"/></div>]"
      ]
     },
     "execution_count": 197,
     "metadata": {},
     "output_type": "execute_result"
    }
   ],
   "source": [
    "url_image_news = soup.find_all(class_=\"list_image\")\n",
    "url_image_news[:10]"
   ]
  },
  {
   "cell_type": "code",
   "execution_count": 196,
   "metadata": {},
   "outputs": [
    {
     "data": {
      "text/plain": [
       "[{'Image_name': 'Mars 2020 Perseverance Rover',\n",
       "  'Image_url': 'https://mars.nasa.gov/news/?page=0&per_page=40&order=publish_date+desc%2Ccreated_at+desc&search=&category=19%2C165%2C184%2C204&blank_scope=Latest/system/missions/list_view_images/23_PIA23764-RoverNamePlateonMars-320x240.jpg'},\n",
       " {'Image_name': 'Curiosity Rover',\n",
       "  'Image_url': 'https://mars.nasa.gov/news/?page=0&per_page=40&order=publish_date+desc%2Ccreated_at+desc&search=&category=19%2C165%2C184%2C204&blank_scope=Latest/system/missions/list_view_images/2_PIA14175-thmfeat.jpg'},\n",
       " {'Image_name': 'InSight Lander',\n",
       "  'Image_url': 'https://mars.nasa.gov/news/?page=0&per_page=40&order=publish_date+desc%2Ccreated_at+desc&search=&category=19%2C165%2C184%2C204&blank_scope=Latest/system/missions/list_view_images/21_PIA22743-320x240.jpg'},\n",
       " {'Image_name': 'MAVEN',\n",
       "  'Image_url': 'https://mars.nasa.gov/news/?page=0&per_page=40&order=publish_date+desc%2Ccreated_at+desc&search=&category=19%2C165%2C184%2C204&blank_scope=Latest/system/missions/list_view_images/6_maven_320x240.jpg'},\n",
       " {'Image_name': 'Mars Reconnaissance Orbiter',\n",
       "  'Image_url': 'https://mars.nasa.gov/news/?page=0&per_page=40&order=publish_date+desc%2Ccreated_at+desc&search=&category=19%2C165%2C184%2C204&blank_scope=Latest/system/missions/list_view_images/8_MRO_320x240.jpg'},\n",
       " {'Image_name': '2001 Mars Odyssey',\n",
       "  'Image_url': 'https://mars.nasa.gov/news/?page=0&per_page=40&order=publish_date+desc%2Ccreated_at+desc&search=&category=19%2C165%2C184%2C204&blank_scope=Latest/system/missions/list_view_images/5_mars_odyssey320x240.jpg'},\n",
       " {'Image_name': 'InSight Collecting Mars Weather Data',\n",
       "  'Image_url': 'https://mars.nasa.gov/news/?page=0&per_page=40&order=publish_date+desc%2Ccreated_at+desc&search=&category=19%2C165%2C184%2C204&blank_scope=Latest/system/news_items/list_view_images/8744_PIA22957-226.jpg'},\n",
       " {'Image_name': 'Illustration of Mars 2020 spacecraft',\n",
       "  'Image_url': 'https://mars.nasa.gov/news/?page=0&per_page=40&order=publish_date+desc%2Ccreated_at+desc&search=&category=19%2C165%2C184%2C204&blank_scope=Latest/system/news_items/list_view_images/8742_Mars2020-Earth-226.jpg'},\n",
       " {'Image_name': \"Mars 2020 With Sample Tubes (Artist's Concept)\",\n",
       "  'Image_url': 'https://mars.nasa.gov/news/?page=0&per_page=40&order=publish_date+desc%2Ccreated_at+desc&search=&category=19%2C165%2C184%2C204&blank_scope=Latest/system/news_items/list_view_images/8737_24760_PIA23492-320x240.jpg'},\n",
       " {'Image_name': 'Mars 2020 Perseverance rover and the Ingenuity Mars Helicopter',\n",
       "  'Image_url': 'https://mars.nasa.gov/news/?page=0&per_page=40&order=publish_date+desc%2Ccreated_at+desc&search=&category=19%2C165%2C184%2C204&blank_scope=Latest/system/news_items/list_view_images/8736_PIA24043-Rover-and-Helicopter-320x240.jpg'}]"
      ]
     },
     "execution_count": 196,
     "metadata": {},
     "output_type": "execute_result"
    }
   ],
   "source": [
    "# Collect the Featured Images URL\n",
    "# url_image_news = soup.find_all(class_=\"list_image\")\n",
    "url_image_news = soup.find_all(\"img\")\n",
    "images_names = []\n",
    "notlist = ['More', 'expand arrow', '', 'twitter', 'facebook', 'instagram', 'rss']\n",
    "for image in url_image_news:\n",
    "    row = {}\n",
    "    name = image[\"alt\"]\n",
    "    if name not in notlist:\n",
    "        row['Image_name'] = name\n",
    "        row['Image_url'] = url + image[\"src\"]\n",
    "        images_names.append(row)\n",
    "images_names[:10]"
   ]
  },
  {
   "cell_type": "code",
   "execution_count": 101,
   "metadata": {},
   "outputs": [
    {
     "data": {
      "text/plain": [
       "[{'Date': 'August 24, 2020',\n",
       "  'News_Title': \"NASA Engineers Checking InSight's Weather Sensors\",\n",
       "  'News_Paragraph': 'An electronics issue is suspected to be preventing the sensors from sharing their data about Mars weather with the spacecraft.',\n",
       "  'Image_URL': ''},\n",
       " {'Date': 'August 21, 2020',\n",
       "  'News_Title': \"Follow NASA's Perseverance Rover in Real Time on Its Way to Mars\",\n",
       "  'News_Paragraph': \"A crisply rendered web application can show you where the agency's Mars 2020 mission is right now as it makes its way to the Red Planet for a Feb. 18, 2021, landing.\",\n",
       "  'Image_URL': ''},\n",
       " {'Date': 'August 14, 2020',\n",
       "  'News_Title': 'NASA Establishes Board to Initially Review Mars Sample Return Plans',\n",
       "  'News_Paragraph': 'The board will assist with analysis of current plans and goals for one of the most difficult missions humanity has ever undertaken.',\n",
       "  'Image_URL': ''},\n",
       " {'Date': 'August 13, 2020',\n",
       "  'News_Title': \"NASA's Ingenuity Mars Helicopter Recharges Its Batteries in Flight\",\n",
       "  'News_Paragraph': 'Headed to the Red Planet with the Perseverance rover, the pioneering helicopter is powered up for the first time in interplanetary space as part of a systems check.',\n",
       "  'Image_URL': ''},\n",
       " {'Date': 'August 12, 2020',\n",
       "  'News_Title': \"Celebrate Mars Reconnaissance Orbiter's Views From Above\",\n",
       "  'News_Paragraph': 'Marking its 15th anniversary since launch, one of the oldest spacecraft at the Red Planet has provided glimpses of dust devils, avalanches, and more.',\n",
       "  'Image_URL': ''}]"
      ]
     },
     "execution_count": 101,
     "metadata": {},
     "output_type": "execute_result"
    }
   ],
   "source": [
    "news = []\n",
    "for i in range(len(date_news)):\n",
    "    row = {}\n",
    "    row['Date'] = date_news[i]\n",
    "    row[\"News_Title\"] = title_news[i]\n",
    "    row[\"News_Paragraph\"] = par_news[i]\n",
    "    row[\"Image_URL\"] = url_image_news[i]\n",
    "    news.append(row)\n",
    "news[:5]"
   ]
  },
  {
   "cell_type": "code",
   "execution_count": 116,
   "metadata": {},
   "outputs": [],
   "source": [
    " # Close the browser after scraping\n",
    "browser.quit()"
   ]
  },
  {
   "cell_type": "markdown",
   "metadata": {},
   "source": [
    "## JPL Mars Space Images - Featured Image\n",
    "#### Browser and Site Connection"
   ]
  },
  {
   "cell_type": "code",
   "execution_count": 132,
   "metadata": {},
   "outputs": [],
   "source": [
    "browser = init_browser()\n",
    "\n",
    "# Visit mars.nasa.com\n",
    "url_image = \"https://www.jpl.nasa.gov/spaceimages/?search=&category=Mars\"\n",
    "browser.visit(url_image)\n",
    "time.sleep(1)\n",
    "\n",
    "# Scrape page into Soup\n",
    "html = browser.html\n",
    "soup = bs(html, \"html.parser\")"
   ]
  },
  {
   "cell_type": "markdown",
   "metadata": {},
   "source": [
    "#### Collecting the Data"
   ]
  },
  {
   "cell_type": "code",
   "execution_count": 133,
   "metadata": {},
   "outputs": [
    {
     "data": {
      "text/plain": [
       "[{'Image_name': 'Wind and Sand - False Color',\n",
       "  'Image_url': 'https://www.jpl.nasa.gov/spaceimages/?search=&category=Mars/spaceimages/images/wallpaper/PIA24077-640x350.jpg'},\n",
       " {'Image_name': 'Claritas Fossae - False Color',\n",
       "  'Image_url': 'https://www.jpl.nasa.gov/spaceimages/?search=&category=Mars/spaceimages/images/wallpaper/PIA24076-640x350.jpg'},\n",
       " {'Image_name': 'Virrat Crater - False Color',\n",
       "  'Image_url': 'https://www.jpl.nasa.gov/spaceimages/?search=&category=Mars/spaceimages/images/wallpaper/PIA24075-640x350.jpg'},\n",
       " {'Image_name': 'Claritas Fossae - False Color',\n",
       "  'Image_url': 'https://www.jpl.nasa.gov/spaceimages/?search=&category=Mars/spaceimages/images/wallpaper/PIA24074-640x350.jpg'},\n",
       " {'Image_name': 'Angustus Labyrinthus - False Color',\n",
       "  'Image_url': 'https://www.jpl.nasa.gov/spaceimages/?search=&category=Mars/spaceimages/images/wallpaper/PIA24073-640x350.jpg'},\n",
       " {'Image_name': 'Terra Cimmeria Crater - False Color',\n",
       "  'Image_url': 'https://www.jpl.nasa.gov/spaceimages/?search=&category=Mars/spaceimages/images/wallpaper/PIA24072-640x350.jpg'},\n",
       " {'Image_name': 'Noachis Terra Crater Dunes - False Color',\n",
       "  'Image_url': 'https://www.jpl.nasa.gov/spaceimages/?search=&category=Mars/spaceimages/images/wallpaper/PIA24059-640x350.jpg'},\n",
       " {'Image_name': 'HiRISE Finds a Dune and Ripples',\n",
       "  'Image_url': 'https://www.jpl.nasa.gov/spaceimages/?search=&category=Mars/spaceimages/images/wallpaper/PIA24036-640x350.jpg'},\n",
       " {'Image_name': 'HiRISE Catches an Avalanche on Mars',\n",
       "  'Image_url': 'https://www.jpl.nasa.gov/spaceimages/?search=&category=Mars/spaceimages/images/wallpaper/PIA24035-640x350.jpg'},\n",
       " {'Image_name': 'Crater Dunes - False Color',\n",
       "  'Image_url': 'https://www.jpl.nasa.gov/spaceimages/?search=&category=Mars/spaceimages/images/wallpaper/PIA24058-640x350.jpg'},\n",
       " {'Image_name': 'Crater Dunes - False Color',\n",
       "  'Image_url': 'https://www.jpl.nasa.gov/spaceimages/?search=&category=Mars/spaceimages/images/wallpaper/PIA24057-640x350.jpg'},\n",
       " {'Image_name': 'Rabe Crater Dunes - False Color',\n",
       "  'Image_url': 'https://www.jpl.nasa.gov/spaceimages/?search=&category=Mars/spaceimages/images/wallpaper/PIA24056-640x350.jpg'},\n",
       " {'Image_name': 'Rabe Crater - False Color',\n",
       "  'Image_url': 'https://www.jpl.nasa.gov/spaceimages/?search=&category=Mars/spaceimages/images/wallpaper/PIA24055-640x350.jpg'},\n",
       " {'Image_name': 'Nectaris Fossae - False Color',\n",
       "  'Image_url': 'https://www.jpl.nasa.gov/spaceimages/?search=&category=Mars/spaceimages/images/wallpaper/PIA24054-640x350.jpg'},\n",
       " {'Image_name': 'Hesperia Planum Crater - False Color',\n",
       "  'Image_url': 'https://www.jpl.nasa.gov/spaceimages/?search=&category=Mars/spaceimages/images/wallpaper/PIA24053-640x350.jpg'},\n",
       " {'Image_name': 'Ariadnes Colles - False Color',\n",
       "  'Image_url': 'https://www.jpl.nasa.gov/spaceimages/?search=&category=Mars/spaceimages/images/wallpaper/PIA24052-640x350.jpg'},\n",
       " {'Image_name': 'Curiosity',\n",
       "  'Image_url': 'https://www.jpl.nasa.gov/spaceimages/?search=&category=Mars/spaceimages/images/wallpaper/PIA23977-640x350.jpg'},\n",
       " {'Image_name': 'Curiosity Captures a Spaghetti Western Landscape on Mars',\n",
       "  'Image_url': 'https://www.jpl.nasa.gov/spaceimages/?search=&category=Mars/spaceimages/images/wallpaper/PIA23971-640x350.jpg'},\n",
       " {'Image_name': 'A Dramatic View of Mars',\n",
       "  'Image_url': 'https://www.jpl.nasa.gov/spaceimages/?search=&category=Mars/spaceimages/images/wallpaper/PIA23898-640x350.jpg'},\n",
       " {'Image_name': 'Nirgal Vallis',\n",
       "  'Image_url': 'https://www.jpl.nasa.gov/spaceimages/?search=&category=Mars/spaceimages/images/wallpaper/PIA24015-640x350.jpg'},\n",
       " {'Image_name': 'Hephaestus Fossae',\n",
       "  'Image_url': 'https://www.jpl.nasa.gov/spaceimages/?search=&category=Mars/spaceimages/images/wallpaper/PIA24014-640x350.jpg'},\n",
       " {'Image_name': 'Athabasca Valles',\n",
       "  'Image_url': 'https://www.jpl.nasa.gov/spaceimages/?search=&category=Mars/spaceimages/images/wallpaper/PIA24013-640x350.jpg'},\n",
       " {'Image_name': 'NASA Astronauts on Mars With Helicopter (Illustration)',\n",
       "  'Image_url': 'https://www.jpl.nasa.gov/spaceimages/?search=&category=Mars/spaceimages/images/wallpaper/PIA24032-640x350.jpg'},\n",
       " {'Image_name': 'NASA Astronauts on Mars (Illustration)',\n",
       "  'Image_url': 'https://www.jpl.nasa.gov/spaceimages/?search=&category=Mars/spaceimages/images/wallpaper/PIA24031-640x350.jpg'},\n",
       " {'Image_name': 'Tharsis Volcanics',\n",
       "  'Image_url': 'https://www.jpl.nasa.gov/spaceimages/?search=&category=Mars/spaceimages/images/wallpaper/PIA24012-640x350.jpg'},\n",
       " {'Image_name': 'Vichada Valles',\n",
       "  'Image_url': 'https://www.jpl.nasa.gov/spaceimages/?search=&category=Mars/spaceimages/images/wallpaper/PIA24011-640x350.jpg'},\n",
       " {'Image_name': 'Icaria Fossae',\n",
       "  'Image_url': 'https://www.jpl.nasa.gov/spaceimages/?search=&category=Mars/spaceimages/images/wallpaper/PIA24010-640x350.jpg'},\n",
       " {'Image_name': 'South Polar Textures',\n",
       "  'Image_url': 'https://www.jpl.nasa.gov/spaceimages/?search=&category=Mars/spaceimages/images/wallpaper/PIA24009-640x350.jpg'},\n",
       " {'Image_name': 'Lucus Planum Yardangs',\n",
       "  'Image_url': 'https://www.jpl.nasa.gov/spaceimages/?search=&category=Mars/spaceimages/images/wallpaper/PIA24008-640x350.jpg'},\n",
       " {'Image_name': 'Windstreaks',\n",
       "  'Image_url': 'https://www.jpl.nasa.gov/spaceimages/?search=&category=Mars/spaceimages/images/wallpaper/PIA24007-640x350.jpg'},\n",
       " {'Image_name': 'All Broken Up',\n",
       "  'Image_url': 'https://www.jpl.nasa.gov/spaceimages/?search=&category=Mars/spaceimages/images/wallpaper/PIA24006-640x350.jpg'},\n",
       " {'Image_name': 'Burton Crater',\n",
       "  'Image_url': 'https://www.jpl.nasa.gov/spaceimages/?search=&category=Mars/spaceimages/images/wallpaper/PIA24005-640x350.jpg'},\n",
       " {'Image_name': 'jpl photojournal',\n",
       "  'Image_url': 'https://www.jpl.nasa.gov/spaceimages/?search=&category=Mars/assets/images/content/tmp/images/jpl_photojournal(3x1).jpg'},\n",
       " {'Image_name': 'Great images in NASA',\n",
       "  'Image_url': 'https://www.jpl.nasa.gov/spaceimages/?search=&category=Mars/assets/images/content/tmp/images/nasa_images(3x1).jpg'},\n",
       " {'Image_name': 'Auxiliary Payload Sensor Suite (APSS)',\n",
       "  'Image_url': 'https://www.jpl.nasa.gov/spaceimages/?search=&category=Mars//imagecache.jpl.nasa.gov/images/640x350/PIA22957-16-640x350.jpg'},\n",
       " {'Image_name': 'The Mars 2020 Perseverance mission',\n",
       "  'Image_url': 'https://www.jpl.nasa.gov/spaceimages/?search=&category=Mars//imagecache.jpl.nasa.gov/images/640x350/Mars2020-Earth-16-640x350.jpg'},\n",
       " {'Image_name': \"Artist's concept of NASA's Mars 2020 Perseverance rover\",\n",
       "  'Image_url': 'https://www.jpl.nasa.gov/spaceimages/?search=&category=Mars//imagecache.jpl.nasa.gov/images/640x350/PIA23492-16-640x350.jpg'}]"
      ]
     },
     "execution_count": 133,
     "metadata": {},
     "output_type": "execute_result"
    }
   ],
   "source": [
    "# Collect the Featured Images URL\n",
    "url_image_news = soup.find_all('img')\n",
    "images_list = []\n",
    "notlist = ['more arrow', '']\n",
    "for image in url_image_news:\n",
    "        row = {}\n",
    "        name = image[\"alt\"]\n",
    "        if name not in notlist:\n",
    "            row['Image_name'] = name\n",
    "            row['Image_url'] = url_image + image[\"src\"]\n",
    "            images_list.append(row)\n",
    "images_list"
   ]
  },
  {
   "cell_type": "code",
   "execution_count": 198,
   "metadata": {},
   "outputs": [],
   "source": [
    " # Close the browser after scraping\n",
    "browser.quit()"
   ]
  },
  {
   "cell_type": "markdown",
   "metadata": {},
   "source": [
    "## Mars Facts\n",
    "#### Browser and Site Connection"
   ]
  },
  {
   "cell_type": "code",
   "execution_count": 199,
   "metadata": {},
   "outputs": [],
   "source": [
    "browser = init_browser()\n",
    "\n",
    "# Visit mars.nasa.com\n",
    "url_image = \"https://space-facts.com/mars/\"\n",
    "browser.visit(url_image)\n",
    "time.sleep(1)\n",
    "\n",
    "# Scrape page into Soup\n",
    "html = browser.html\n",
    "soup = bs(html, \"html.parser\")"
   ]
  },
  {
   "cell_type": "markdown",
   "metadata": {},
   "source": [
    "#### Collecting the Data"
   ]
  },
  {
   "cell_type": "code",
   "execution_count": 205,
   "metadata": {},
   "outputs": [
    {
     "data": {
      "text/plain": [
       "['Equatorial Diameter:',\n",
       " 'Polar Diameter:',\n",
       " 'Mass:',\n",
       " 'Moons:',\n",
       " 'Orbit Distance:',\n",
       " 'Orbit Period:',\n",
       " 'Surface Temperature: ',\n",
       " 'First Record:',\n",
       " 'Recorded By:',\n",
       " 'Mars - Earth Comparison']"
      ]
     },
     "execution_count": 205,
     "metadata": {},
     "output_type": "execute_result"
    }
   ],
   "source": [
    "facts = news_list(\"column-1\")\n",
    "facts[:10]"
   ]
  },
  {
   "cell_type": "code",
   "execution_count": 206,
   "metadata": {},
   "outputs": [
    {
     "data": {
      "text/plain": [
       "['6,792 km',\n",
       " '6,752 km',\n",
       " '6.39 × 10^23 kg (0.11 Earths)',\n",
       " '2 (Phobos & Deimos)',\n",
       " '227,943,824 km (1.38 AU)',\n",
       " '687 days (1.9 years)',\n",
       " '-87 to -5 °C',\n",
       " '2nd millennium BC',\n",
       " 'Egyptian astronomers',\n",
       " 'Mars']"
      ]
     },
     "execution_count": 206,
     "metadata": {},
     "output_type": "execute_result"
    }
   ],
   "source": [
    "facts_data = news_list(\"column-2\")\n",
    "facts_data[:10]"
   ]
  },
  {
   "cell_type": "code",
   "execution_count": 208,
   "metadata": {},
   "outputs": [
    {
     "data": {
      "text/plain": [
       "[{'Description': 'Equatorial Diameter:', 'Mars_Fact': '6,792 km'},\n",
       " {'Description': 'Polar Diameter:', 'Mars_Fact': '6,752 km'},\n",
       " {'Description': 'Mass:', 'Mars_Fact': '6.39 × 10^23 kg (0.11 Earths)'},\n",
       " {'Description': 'Moons:', 'Mars_Fact': '2 (Phobos & Deimos)'},\n",
       " {'Description': 'Orbit Distance:', 'Mars_Fact': '227,943,824 km (1.38 AU)'}]"
      ]
     },
     "execution_count": 208,
     "metadata": {},
     "output_type": "execute_result"
    }
   ],
   "source": [
    "facts_list = []\n",
    "for i in range(len(facts_data)):\n",
    "        row = {}\n",
    "        row['Description'] = facts[i]\n",
    "        row['Mars_Fact'] = facts_data[i]\n",
    "        facts_list.append(row)\n",
    "facts_list[:5]"
   ]
  },
  {
   "cell_type": "code",
   "execution_count": 265,
   "metadata": {},
   "outputs": [],
   "source": [
    "# Close the browser after scraping\n",
    "browser.quit()"
   ]
  },
  {
   "cell_type": "code",
   "execution_count": null,
   "metadata": {},
   "outputs": [],
   "source": [
    "## Mars Hemispheres\n",
    "#### Browser and Site Connection"
   ]
  },
  {
   "cell_type": "code",
   "execution_count": 210,
   "metadata": {},
   "outputs": [],
   "source": [
    "browser = init_browser()\n",
    "\n",
    "# Visit mars.nasa.com\n",
    "url_astro = \"https://astrogeology.usgs.gov/search/results?q=hemisphere+enhanced&k1=target&v1=Mars\"\n",
    "browser.visit(url_astro)\n",
    "time.sleep(1)\n",
    "\n",
    "# Scrape page into Soup\n",
    "html = browser.html\n",
    "soup = bs(html, \"html.parser\")"
   ]
  },
  {
   "cell_type": "code",
   "execution_count": 259,
   "metadata": {},
   "outputs": [
    {
     "data": {
      "text/plain": [
       "[<div class=\"description\"><a class=\"itemLink product-item\" href=\"/search/map/Mars/Viking/cerberus_enhanced\"><h3>Cerberus Hemisphere Enhanced</h3></a><span class=\"subtitle\" style=\"float:left\">image/tiff 21 MB</span><span class=\"pubDate\" style=\"float:right\"></span><br/><p>Mosaic of the Cerberus hemisphere of Mars projected into point perspective, a view similar to that which one would see from a spacecraft. This mosaic is composed of 104 Viking Orbiter images acquired…</p></div>,\n",
       " <div class=\"description\"><a class=\"itemLink product-item\" href=\"/search/map/Mars/Viking/schiaparelli_enhanced\"><h3>Schiaparelli Hemisphere Enhanced</h3></a><span class=\"subtitle\" style=\"float:left\">image/tiff 35 MB</span><span class=\"pubDate\" style=\"float:right\"></span><br/><p>Mosaic of the Schiaparelli hemisphere of Mars projected into point perspective, a view similar to that which one would see from a spacecraft. The images were acquired in 1980 during early northern…</p></div>,\n",
       " <div class=\"description\"><a class=\"itemLink product-item\" href=\"/search/map/Mars/Viking/syrtis_major_enhanced\"><h3>Syrtis Major Hemisphere Enhanced</h3></a><span class=\"subtitle\" style=\"float:left\">image/tiff 25 MB</span><span class=\"pubDate\" style=\"float:right\"></span><br/><p>Mosaic of the Syrtis Major hemisphere of Mars projected into point perspective, a view similar to that which one would see from a spacecraft. This mosaic is composed of about 100 red and violet…</p></div>,\n",
       " <div class=\"description\"><a class=\"itemLink product-item\" href=\"/search/map/Mars/Viking/valles_marineris_enhanced\"><h3>Valles Marineris Hemisphere Enhanced</h3></a><span class=\"subtitle\" style=\"float:left\">image/tiff 27 MB</span><span class=\"pubDate\" style=\"float:right\"></span><br/><p>Mosaic of the Valles Marineris hemisphere of Mars projected into point perspective, a view similar to that which one would see from a spacecraft. The distance is 2500 kilometers from the surface of…</p></div>]"
      ]
     },
     "execution_count": 259,
     "metadata": {},
     "output_type": "execute_result"
    }
   ],
   "source": [
    "soup.find_all(class_=\"description\")[:5]"
   ]
  },
  {
   "cell_type": "code",
   "execution_count": 264,
   "metadata": {},
   "outputs": [
    {
     "data": {
      "text/plain": [
       "'Cerberus Hemisphere Enhanced'"
      ]
     },
     "execution_count": 264,
     "metadata": {},
     "output_type": "execute_result"
    }
   ],
   "source": [
    "soup.findAll('h3')[0].next"
   ]
  },
  {
   "cell_type": "code",
   "execution_count": 263,
   "metadata": {},
   "outputs": [
    {
     "data": {
      "text/plain": [
       "[None, None, None, None]"
      ]
     },
     "execution_count": 263,
     "metadata": {},
     "output_type": "execute_result"
    }
   ],
   "source": [
    "hem_names = []\n",
    "[hem_names.append(name.next) for name in soup.findAll('h3')]"
   ]
  }
 ],
 "metadata": {
  "kernelspec": {
   "display_name": "Python 3",
   "language": "python",
   "name": "python3"
  },
  "language_info": {
   "codemirror_mode": {
    "name": "ipython",
    "version": 3
   },
   "file_extension": ".py",
   "mimetype": "text/x-python",
   "name": "python",
   "nbconvert_exporter": "python",
   "pygments_lexer": "ipython3",
   "version": "3.8.2"
  }
 },
 "nbformat": 4,
 "nbformat_minor": 4
}
